{
 "cells": [
  {
   "cell_type": "markdown",
   "metadata": {},
   "source": [
    "# Jupyter and Pandas Basics"
   ]
  },
  {
   "cell_type": "markdown",
   "metadata": {},
   "source": [
    "_Uses normal markdown syntax_ **bold**"
   ]
  },
  {
   "cell_type": "markdown",
   "metadata": {},
   "source": [
    "Can run commands a if using the python cli"
   ]
  },
  {
   "cell_type": "code",
   "execution_count": 1,
   "metadata": {},
   "outputs": [
    {
     "data": {
      "text/plain": [
       "7"
      ]
     },
     "execution_count": 1,
     "metadata": {},
     "output_type": "execute_result"
    }
   ],
   "source": [
    "4 + 3"
   ]
  },
  {
   "cell_type": "code",
   "execution_count": 2,
   "metadata": {},
   "outputs": [
    {
     "data": {
      "text/plain": [
       "33"
      ]
     },
     "execution_count": 2,
     "metadata": {},
     "output_type": "execute_result"
    }
   ],
   "source": [
    "x = 23\n",
    "x + 10"
   ]
  },
  {
   "cell_type": "code",
   "execution_count": 3,
   "metadata": {},
   "outputs": [
    {
     "name": "stdout",
     "output_type": "stream",
     "text": [
      "[{\"a\": \"A\", \"b\": [2, 4], \"c\": 3.0}]\n"
     ]
    }
   ],
   "source": [
    "import json\n",
    "data = [ { 'a':'A', 'b':(2, 4), 'c':3.0 } ]\n",
    "print(json.dumps(data))"
   ]
  },
  {
   "cell_type": "markdown",
   "metadata": {},
   "source": [
    "## Pandas"
   ]
  },
  {
   "cell_type": "code",
   "execution_count": 4,
   "metadata": {
    "collapsed": true
   },
   "outputs": [],
   "source": [
    "%matplotlib inline \n",
    "import pandas as pd\n",
    "import numpy as np"
   ]
  },
  {
   "cell_type": "markdown",
   "metadata": {},
   "source": [
    "DataFrame is like a table in a db,  \n",
    "Series is like a field in a table"
   ]
  },
  {
   "cell_type": "code",
   "execution_count": 5,
   "metadata": {},
   "outputs": [
    {
     "data": {
      "text/plain": [
       "0    1.0\n",
       "1    3.0\n",
       "2    5.0\n",
       "3    NaN\n",
       "4    6.0\n",
       "5    8.0\n",
       "dtype: float64"
      ]
     },
     "execution_count": 5,
     "metadata": {},
     "output_type": "execute_result"
    }
   ],
   "source": [
    "s = pd.Series([1,3,5,np.nan,6,8])\n",
    "s"
   ]
  },
  {
   "cell_type": "code",
   "execution_count": 6,
   "metadata": {
    "collapsed": true
   },
   "outputs": [],
   "source": [
    "df = pd.read_csv('data/queue_import.csv')"
   ]
  },
  {
   "cell_type": "markdown",
   "metadata": {},
   "source": [
    "Data overview"
   ]
  },
  {
   "cell_type": "code",
   "execution_count": 7,
   "metadata": {},
   "outputs": [
    {
     "data": {
      "text/html": [
       "<div>\n",
       "<table border=\"1\" class=\"dataframe\">\n",
       "  <thead>\n",
       "    <tr style=\"text-align: right;\">\n",
       "      <th></th>\n",
       "      <th>batchid</th>\n",
       "      <th>timestamp</th>\n",
       "      <th>load_time</th>\n",
       "      <th>ledgers</th>\n",
       "      <th>payments</th>\n",
       "      <th>balances</th>\n",
       "      <th>cashflows</th>\n",
       "    </tr>\n",
       "  </thead>\n",
       "  <tbody>\n",
       "    <tr>\n",
       "      <th>0</th>\n",
       "      <td>1499891859419</td>\n",
       "      <td>2017-07-12 21:37:39</td>\n",
       "      <td>452829</td>\n",
       "      <td>15563</td>\n",
       "      <td>3540</td>\n",
       "      <td>0</td>\n",
       "      <td>3893</td>\n",
       "    </tr>\n",
       "    <tr>\n",
       "      <th>1</th>\n",
       "      <td>1499892160679</td>\n",
       "      <td>2017-07-12 21:42:40</td>\n",
       "      <td>44932</td>\n",
       "      <td>27025</td>\n",
       "      <td>5393</td>\n",
       "      <td>0</td>\n",
       "      <td>6382</td>\n",
       "    </tr>\n",
       "    <tr>\n",
       "      <th>2</th>\n",
       "      <td>1499892620941</td>\n",
       "      <td>2017-07-12 21:50:20</td>\n",
       "      <td>27271</td>\n",
       "      <td>3095</td>\n",
       "      <td>1346</td>\n",
       "      <td>0</td>\n",
       "      <td>1032</td>\n",
       "    </tr>\n",
       "    <tr>\n",
       "      <th>3</th>\n",
       "      <td>1499892670920</td>\n",
       "      <td>2017-07-12 21:51:10</td>\n",
       "      <td>25708</td>\n",
       "      <td>2015</td>\n",
       "      <td>562</td>\n",
       "      <td>0</td>\n",
       "      <td>618</td>\n",
       "    </tr>\n",
       "    <tr>\n",
       "      <th>4</th>\n",
       "      <td>1499892701779</td>\n",
       "      <td>2017-07-12 21:51:41</td>\n",
       "      <td>23605</td>\n",
       "      <td>1859</td>\n",
       "      <td>422</td>\n",
       "      <td>0</td>\n",
       "      <td>464</td>\n",
       "    </tr>\n",
       "  </tbody>\n",
       "</table>\n",
       "</div>"
      ],
      "text/plain": [
       "         batchid            timestamp  load_time  ledgers  payments  balances  \\\n",
       "0  1499891859419  2017-07-12 21:37:39     452829    15563      3540         0   \n",
       "1  1499892160679  2017-07-12 21:42:40      44932    27025      5393         0   \n",
       "2  1499892620941  2017-07-12 21:50:20      27271     3095      1346         0   \n",
       "3  1499892670920  2017-07-12 21:51:10      25708     2015       562         0   \n",
       "4  1499892701779  2017-07-12 21:51:41      23605     1859       422         0   \n",
       "\n",
       "   cashflows  \n",
       "0       3893  \n",
       "1       6382  \n",
       "2       1032  \n",
       "3        618  \n",
       "4        464  "
      ]
     },
     "execution_count": 7,
     "metadata": {},
     "output_type": "execute_result"
    }
   ],
   "source": [
    "df.head()"
   ]
  },
  {
   "cell_type": "markdown",
   "metadata": {},
   "source": [
    "Brief set of stats of the data"
   ]
  },
  {
   "cell_type": "code",
   "execution_count": 8,
   "metadata": {},
   "outputs": [
    {
     "data": {
      "text/html": [
       "<div>\n",
       "<table border=\"1\" class=\"dataframe\">\n",
       "  <thead>\n",
       "    <tr style=\"text-align: right;\">\n",
       "      <th></th>\n",
       "      <th>batchid</th>\n",
       "      <th>load_time</th>\n",
       "      <th>ledgers</th>\n",
       "      <th>payments</th>\n",
       "      <th>balances</th>\n",
       "      <th>cashflows</th>\n",
       "    </tr>\n",
       "  </thead>\n",
       "  <tbody>\n",
       "    <tr>\n",
       "      <th>count</th>\n",
       "      <td>3.890000e+02</td>\n",
       "      <td>389.000000</td>\n",
       "      <td>389.000000</td>\n",
       "      <td>389.000000</td>\n",
       "      <td>389.0</td>\n",
       "      <td>389.000000</td>\n",
       "    </tr>\n",
       "    <tr>\n",
       "      <th>mean</th>\n",
       "      <td>1.499897e+12</td>\n",
       "      <td>13758.048843</td>\n",
       "      <td>1131.105398</td>\n",
       "      <td>257.069409</td>\n",
       "      <td>0.0</td>\n",
       "      <td>282.776350</td>\n",
       "    </tr>\n",
       "    <tr>\n",
       "      <th>std</th>\n",
       "      <td>2.118705e+06</td>\n",
       "      <td>24347.494773</td>\n",
       "      <td>1613.308792</td>\n",
       "      <td>340.429395</td>\n",
       "      <td>0.0</td>\n",
       "      <td>389.332602</td>\n",
       "    </tr>\n",
       "    <tr>\n",
       "      <th>min</th>\n",
       "      <td>1.499892e+12</td>\n",
       "      <td>4610.000000</td>\n",
       "      <td>29.000000</td>\n",
       "      <td>6.000000</td>\n",
       "      <td>0.0</td>\n",
       "      <td>7.000000</td>\n",
       "    </tr>\n",
       "    <tr>\n",
       "      <th>25%</th>\n",
       "      <td>1.499895e+12</td>\n",
       "      <td>8399.000000</td>\n",
       "      <td>793.000000</td>\n",
       "      <td>180.000000</td>\n",
       "      <td>0.0</td>\n",
       "      <td>198.000000</td>\n",
       "    </tr>\n",
       "    <tr>\n",
       "      <th>50%</th>\n",
       "      <td>1.499897e+12</td>\n",
       "      <td>9696.000000</td>\n",
       "      <td>862.000000</td>\n",
       "      <td>196.000000</td>\n",
       "      <td>0.0</td>\n",
       "      <td>215.000000</td>\n",
       "    </tr>\n",
       "    <tr>\n",
       "      <th>75%</th>\n",
       "      <td>1.499899e+12</td>\n",
       "      <td>11699.000000</td>\n",
       "      <td>955.000000</td>\n",
       "      <td>217.000000</td>\n",
       "      <td>0.0</td>\n",
       "      <td>239.000000</td>\n",
       "    </tr>\n",
       "    <tr>\n",
       "      <th>max</th>\n",
       "      <td>1.499900e+12</td>\n",
       "      <td>452829.000000</td>\n",
       "      <td>27025.000000</td>\n",
       "      <td>5393.000000</td>\n",
       "      <td>0.0</td>\n",
       "      <td>6382.000000</td>\n",
       "    </tr>\n",
       "  </tbody>\n",
       "</table>\n",
       "</div>"
      ],
      "text/plain": [
       "            batchid      load_time       ledgers     payments  balances  \\\n",
       "count  3.890000e+02     389.000000    389.000000   389.000000     389.0   \n",
       "mean   1.499897e+12   13758.048843   1131.105398   257.069409       0.0   \n",
       "std    2.118705e+06   24347.494773   1613.308792   340.429395       0.0   \n",
       "min    1.499892e+12    4610.000000     29.000000     6.000000       0.0   \n",
       "25%    1.499895e+12    8399.000000    793.000000   180.000000       0.0   \n",
       "50%    1.499897e+12    9696.000000    862.000000   196.000000       0.0   \n",
       "75%    1.499899e+12   11699.000000    955.000000   217.000000       0.0   \n",
       "max    1.499900e+12  452829.000000  27025.000000  5393.000000       0.0   \n",
       "\n",
       "         cashflows  \n",
       "count   389.000000  \n",
       "mean    282.776350  \n",
       "std     389.332602  \n",
       "min       7.000000  \n",
       "25%     198.000000  \n",
       "50%     215.000000  \n",
       "75%     239.000000  \n",
       "max    6382.000000  "
      ]
     },
     "execution_count": 8,
     "metadata": {},
     "output_type": "execute_result"
    }
   ],
   "source": [
    "df.describe()"
   ]
  },
  {
   "cell_type": "markdown",
   "metadata": {},
   "source": [
    "Access a single column"
   ]
  },
  {
   "cell_type": "code",
   "execution_count": 9,
   "metadata": {},
   "outputs": [
    {
     "data": {
      "text/plain": [
       "0      15563\n",
       "1      27025\n",
       "2       3095\n",
       "3       2015\n",
       "4       1859\n",
       "5       1763\n",
       "6       1783\n",
       "7       1864\n",
       "8       2388\n",
       "9       2427\n",
       "10      1989\n",
       "11      1887\n",
       "12      2444\n",
       "13      2781\n",
       "14      2458\n",
       "15      2437\n",
       "16      2574\n",
       "17      2455\n",
       "18      2628\n",
       "19      2544\n",
       "20      2692\n",
       "21      3049\n",
       "22      2886\n",
       "23      3066\n",
       "24      4948\n",
       "25      4942\n",
       "26      2698\n",
       "27      2470\n",
       "28      2699\n",
       "29      2767\n",
       "       ...  \n",
       "359      745\n",
       "360      865\n",
       "361      857\n",
       "362      822\n",
       "363      787\n",
       "364      883\n",
       "365     1016\n",
       "366      901\n",
       "367      904\n",
       "368      995\n",
       "369      855\n",
       "370      766\n",
       "371      806\n",
       "372      776\n",
       "373      752\n",
       "374      810\n",
       "375      829\n",
       "376      758\n",
       "377      806\n",
       "378      859\n",
       "379      876\n",
       "380      950\n",
       "381      964\n",
       "382      868\n",
       "383      849\n",
       "384      889\n",
       "385      833\n",
       "386      750\n",
       "387      714\n",
       "388      366\n",
       "Name: ledgers, dtype: int64"
      ]
     },
     "execution_count": 9,
     "metadata": {},
     "output_type": "execute_result"
    }
   ],
   "source": [
    "df['ledgers']  # returns a series"
   ]
  },
  {
   "cell_type": "markdown",
   "metadata": {},
   "source": [
    "Can take a series, filter it and apply a function"
   ]
  },
  {
   "cell_type": "code",
   "execution_count": 10,
   "metadata": {},
   "outputs": [
    {
     "data": {
      "text/plain": [
       "0    1556300\n",
       "1    2702500\n",
       "2     309500\n",
       "3     201500\n",
       "4     185900\n",
       "5     176300\n",
       "6     178300\n",
       "7     186400\n",
       "8     238800\n",
       "9     242700\n",
       "Name: ledgers, dtype: int64"
      ]
     },
     "execution_count": 10,
     "metadata": {},
     "output_type": "execute_result"
    }
   ],
   "source": [
    "x = df['ledgers'][:10]\n",
    "x = x * 100\n",
    "x"
   ]
  },
  {
   "cell_type": "markdown",
   "metadata": {},
   "source": [
    "Get a number of columns"
   ]
  },
  {
   "cell_type": "code",
   "execution_count": 11,
   "metadata": {},
   "outputs": [
    {
     "data": {
      "text/html": [
       "<div>\n",
       "<table border=\"1\" class=\"dataframe\">\n",
       "  <thead>\n",
       "    <tr style=\"text-align: right;\">\n",
       "      <th></th>\n",
       "      <th>ledgers</th>\n",
       "      <th>cashflows</th>\n",
       "    </tr>\n",
       "  </thead>\n",
       "  <tbody>\n",
       "    <tr>\n",
       "      <th>0</th>\n",
       "      <td>15563</td>\n",
       "      <td>3893</td>\n",
       "    </tr>\n",
       "    <tr>\n",
       "      <th>1</th>\n",
       "      <td>27025</td>\n",
       "      <td>6382</td>\n",
       "    </tr>\n",
       "    <tr>\n",
       "      <th>2</th>\n",
       "      <td>3095</td>\n",
       "      <td>1032</td>\n",
       "    </tr>\n",
       "    <tr>\n",
       "      <th>3</th>\n",
       "      <td>2015</td>\n",
       "      <td>618</td>\n",
       "    </tr>\n",
       "    <tr>\n",
       "      <th>4</th>\n",
       "      <td>1859</td>\n",
       "      <td>464</td>\n",
       "    </tr>\n",
       "    <tr>\n",
       "      <th>5</th>\n",
       "      <td>1763</td>\n",
       "      <td>441</td>\n",
       "    </tr>\n",
       "    <tr>\n",
       "      <th>6</th>\n",
       "      <td>1783</td>\n",
       "      <td>446</td>\n",
       "    </tr>\n",
       "    <tr>\n",
       "      <th>7</th>\n",
       "      <td>1864</td>\n",
       "      <td>466</td>\n",
       "    </tr>\n",
       "    <tr>\n",
       "      <th>8</th>\n",
       "      <td>2388</td>\n",
       "      <td>597</td>\n",
       "    </tr>\n",
       "    <tr>\n",
       "      <th>9</th>\n",
       "      <td>2427</td>\n",
       "      <td>607</td>\n",
       "    </tr>\n",
       "  </tbody>\n",
       "</table>\n",
       "</div>"
      ],
      "text/plain": [
       "   ledgers  cashflows\n",
       "0    15563       3893\n",
       "1    27025       6382\n",
       "2     3095       1032\n",
       "3     2015        618\n",
       "4     1859        464\n",
       "5     1763        441\n",
       "6     1783        446\n",
       "7     1864        466\n",
       "8     2388        597\n",
       "9     2427        607"
      ]
     },
     "execution_count": 11,
     "metadata": {},
     "output_type": "execute_result"
    }
   ],
   "source": [
    "df[['ledgers', 'cashflows']][:10]"
   ]
  },
  {
   "cell_type": "markdown",
   "metadata": {},
   "source": [
    "Filter"
   ]
  },
  {
   "cell_type": "code",
   "execution_count": 12,
   "metadata": {},
   "outputs": [
    {
     "data": {
      "text/html": [
       "<div>\n",
       "<table border=\"1\" class=\"dataframe\">\n",
       "  <thead>\n",
       "    <tr style=\"text-align: right;\">\n",
       "      <th></th>\n",
       "      <th>batchid</th>\n",
       "      <th>timestamp</th>\n",
       "      <th>load_time</th>\n",
       "      <th>ledgers</th>\n",
       "      <th>payments</th>\n",
       "      <th>balances</th>\n",
       "      <th>cashflows</th>\n",
       "    </tr>\n",
       "  </thead>\n",
       "  <tbody>\n",
       "    <tr>\n",
       "      <th>0</th>\n",
       "      <td>1499891859419</td>\n",
       "      <td>2017-07-12 21:37:39</td>\n",
       "      <td>452829</td>\n",
       "      <td>15563</td>\n",
       "      <td>3540</td>\n",
       "      <td>0</td>\n",
       "      <td>3893</td>\n",
       "    </tr>\n",
       "    <tr>\n",
       "      <th>1</th>\n",
       "      <td>1499892160679</td>\n",
       "      <td>2017-07-12 21:42:40</td>\n",
       "      <td>44932</td>\n",
       "      <td>27025</td>\n",
       "      <td>5393</td>\n",
       "      <td>0</td>\n",
       "      <td>6382</td>\n",
       "    </tr>\n",
       "    <tr>\n",
       "      <th>2</th>\n",
       "      <td>1499892620941</td>\n",
       "      <td>2017-07-12 21:50:20</td>\n",
       "      <td>27271</td>\n",
       "      <td>3095</td>\n",
       "      <td>1346</td>\n",
       "      <td>0</td>\n",
       "      <td>1032</td>\n",
       "    </tr>\n",
       "    <tr>\n",
       "      <th>21</th>\n",
       "      <td>1499893352127</td>\n",
       "      <td>2017-07-12 22:02:32</td>\n",
       "      <td>47052</td>\n",
       "      <td>3049</td>\n",
       "      <td>693</td>\n",
       "      <td>0</td>\n",
       "      <td>762</td>\n",
       "    </tr>\n",
       "    <tr>\n",
       "      <th>23</th>\n",
       "      <td>1499893446588</td>\n",
       "      <td>2017-07-12 22:04:06</td>\n",
       "      <td>108364</td>\n",
       "      <td>3066</td>\n",
       "      <td>697</td>\n",
       "      <td>0</td>\n",
       "      <td>766</td>\n",
       "    </tr>\n",
       "    <tr>\n",
       "      <th>24</th>\n",
       "      <td>1499893496187</td>\n",
       "      <td>2017-07-12 22:04:56</td>\n",
       "      <td>43831</td>\n",
       "      <td>4948</td>\n",
       "      <td>1124</td>\n",
       "      <td>0</td>\n",
       "      <td>1237</td>\n",
       "    </tr>\n",
       "    <tr>\n",
       "      <th>25</th>\n",
       "      <td>1499893608497</td>\n",
       "      <td>2017-07-12 22:06:48</td>\n",
       "      <td>34718</td>\n",
       "      <td>4942</td>\n",
       "      <td>1123</td>\n",
       "      <td>0</td>\n",
       "      <td>1236</td>\n",
       "    </tr>\n",
       "  </tbody>\n",
       "</table>\n",
       "</div>"
      ],
      "text/plain": [
       "          batchid            timestamp  load_time  ledgers  payments  \\\n",
       "0   1499891859419  2017-07-12 21:37:39     452829    15563      3540   \n",
       "1   1499892160679  2017-07-12 21:42:40      44932    27025      5393   \n",
       "2   1499892620941  2017-07-12 21:50:20      27271     3095      1346   \n",
       "21  1499893352127  2017-07-12 22:02:32      47052     3049       693   \n",
       "23  1499893446588  2017-07-12 22:04:06     108364     3066       697   \n",
       "24  1499893496187  2017-07-12 22:04:56      43831     4948      1124   \n",
       "25  1499893608497  2017-07-12 22:06:48      34718     4942      1123   \n",
       "\n",
       "    balances  cashflows  \n",
       "0          0       3893  \n",
       "1          0       6382  \n",
       "2          0       1032  \n",
       "21         0        762  \n",
       "23         0        766  \n",
       "24         0       1237  \n",
       "25         0       1236  "
      ]
     },
     "execution_count": 12,
     "metadata": {},
     "output_type": "execute_result"
    }
   ],
   "source": [
    "df[df.ledgers > 3000]"
   ]
  },
  {
   "cell_type": "markdown",
   "metadata": {},
   "source": [
    "Convert the type of a field and set it as the index"
   ]
  },
  {
   "cell_type": "code",
   "execution_count": 13,
   "metadata": {},
   "outputs": [
    {
     "data": {
      "text/html": [
       "<div>\n",
       "<table border=\"1\" class=\"dataframe\">\n",
       "  <thead>\n",
       "    <tr style=\"text-align: right;\">\n",
       "      <th></th>\n",
       "      <th>batchid</th>\n",
       "      <th>load_time</th>\n",
       "      <th>ledgers</th>\n",
       "      <th>payments</th>\n",
       "      <th>balances</th>\n",
       "      <th>cashflows</th>\n",
       "    </tr>\n",
       "    <tr>\n",
       "      <th>timestamp</th>\n",
       "      <th></th>\n",
       "      <th></th>\n",
       "      <th></th>\n",
       "      <th></th>\n",
       "      <th></th>\n",
       "      <th></th>\n",
       "    </tr>\n",
       "  </thead>\n",
       "  <tbody>\n",
       "    <tr>\n",
       "      <th>2017-07-12 21:37:39</th>\n",
       "      <td>1499891859419</td>\n",
       "      <td>452829</td>\n",
       "      <td>15563</td>\n",
       "      <td>3540</td>\n",
       "      <td>0</td>\n",
       "      <td>3893</td>\n",
       "    </tr>\n",
       "    <tr>\n",
       "      <th>2017-07-12 21:42:40</th>\n",
       "      <td>1499892160679</td>\n",
       "      <td>44932</td>\n",
       "      <td>27025</td>\n",
       "      <td>5393</td>\n",
       "      <td>0</td>\n",
       "      <td>6382</td>\n",
       "    </tr>\n",
       "    <tr>\n",
       "      <th>2017-07-12 21:50:20</th>\n",
       "      <td>1499892620941</td>\n",
       "      <td>27271</td>\n",
       "      <td>3095</td>\n",
       "      <td>1346</td>\n",
       "      <td>0</td>\n",
       "      <td>1032</td>\n",
       "    </tr>\n",
       "    <tr>\n",
       "      <th>2017-07-12 21:51:10</th>\n",
       "      <td>1499892670920</td>\n",
       "      <td>25708</td>\n",
       "      <td>2015</td>\n",
       "      <td>562</td>\n",
       "      <td>0</td>\n",
       "      <td>618</td>\n",
       "    </tr>\n",
       "    <tr>\n",
       "      <th>2017-07-12 21:51:41</th>\n",
       "      <td>1499892701779</td>\n",
       "      <td>23605</td>\n",
       "      <td>1859</td>\n",
       "      <td>422</td>\n",
       "      <td>0</td>\n",
       "      <td>464</td>\n",
       "    </tr>\n",
       "  </tbody>\n",
       "</table>\n",
       "</div>"
      ],
      "text/plain": [
       "                           batchid  load_time  ledgers  payments  balances  \\\n",
       "timestamp                                                                    \n",
       "2017-07-12 21:37:39  1499891859419     452829    15563      3540         0   \n",
       "2017-07-12 21:42:40  1499892160679      44932    27025      5393         0   \n",
       "2017-07-12 21:50:20  1499892620941      27271     3095      1346         0   \n",
       "2017-07-12 21:51:10  1499892670920      25708     2015       562         0   \n",
       "2017-07-12 21:51:41  1499892701779      23605     1859       422         0   \n",
       "\n",
       "                     cashflows  \n",
       "timestamp                       \n",
       "2017-07-12 21:37:39       3893  \n",
       "2017-07-12 21:42:40       6382  \n",
       "2017-07-12 21:50:20       1032  \n",
       "2017-07-12 21:51:10        618  \n",
       "2017-07-12 21:51:41        464  "
      ]
     },
     "execution_count": 13,
     "metadata": {},
     "output_type": "execute_result"
    }
   ],
   "source": [
    "df['timestamp'] = pd.to_datetime(df['timestamp'])\n",
    "df = df.set_index('timestamp')\n",
    "df.head()"
   ]
  },
  {
   "cell_type": "markdown",
   "metadata": {},
   "source": [
    "Can plot straight from the dataframe using matplotlib"
   ]
  },
  {
   "cell_type": "code",
   "execution_count": 14,
   "metadata": {},
   "outputs": [
    {
     "data": {
      "image/png": "[encoded data removed]",
      "text/plain": [
       "<matplotlib.figure.Figure at 0x7f8cf1bf3fd0>"
      ]
     },
     "metadata": {},
     "output_type": "display_data"
    }
   ],
   "source": [
    "df['load_time'][1:].plot(title='load_time', linewidth=2);"
   ]
  },
  {
   "cell_type": "code",
   "execution_count": null,
   "metadata": {
    "collapsed": true
   },
   "outputs": [],
   "source": []
  }
 ],
 "metadata": {
  "kernelspec": {
   "display_name": "Python 3",
   "language": "python",
   "name": "python3"
  },
  "language_info": {
   "codemirror_mode": {
    "name": "ipython",
    "version": 3
   },
   "file_extension": ".py",
   "mimetype": "text/x-python",
   "name": "python",
   "nbconvert_exporter": "python",
   "pygments_lexer": "ipython3",
   "version": "3.5.2"
  }
 },
 "nbformat": 4,
 "nbformat_minor": 2
}
